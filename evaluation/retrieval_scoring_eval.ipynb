{
 "cells": [
  {
   "cell_type": "code",
   "execution_count": 1,
   "id": "774bedeb",
   "metadata": {},
   "outputs": [],
   "source": [
    "import pandas as pd \n",
    "import numpy as np\n",
    "import csv\n",
    "import matplotlib.pyplot as plt\n",
    "import os"
   ]
  },
  {
   "cell_type": "code",
   "execution_count": 2,
   "id": "04c2cf79",
   "metadata": {},
   "outputs": [
    {
     "name": "stdout",
     "output_type": "stream",
     "text": [
      "File: spiegel_rag_denazification_temporal-full-50-20_gemini.csv\n",
      "Columns: ['chunk_id', 'primary_relevance_score', 'vector_similarity_score', 'llm_evaluation_score', 'score_difference', 'titel', 'datum', 'jahrgang', 'ausgabe', 'autoren', 'schlagworte', 'untertitel', 'url', 'nr_in_issue', 'time_window', 'evaluation_text', 'content_preview', 'content_length', 'full_content']\n",
      "First row values: {'chunk_id': 1, 'primary_relevance_score': 1.0, 'vector_similarity_score': 0.7804124355316162, 'llm_evaluation_score': 1.0, 'score_difference': 0.2195875644683838, 'titel': 'Nach Führerprinzip', 'datum': '1951-12-25', 'jahrgang': 1951, 'ausgabe': 52, 'autoren': nan, 'schlagworte': \"['Schnaps-Preise']\", 'untertitel': nan, 'url': 'https://www.spiegel.de/politik/nach-fuehrerprinzip-a-7bf63df9-0002-0001-0000-000020300714?context=issue', 'nr_in_issue': nan, 'time_window': '1948-1952', 'evaluation_text': 'Score: 10.0/10 - Automatisch extrahiert', 'content_preview': 'Schon lange vorher hatten die Nationalsozialisten durch Gesetze vom 13. September 1933 und 13. September 1934 den Beirat bei der Reichsmonopolverwaltung beseitigt. Dieser Beirat hatte entgegen dem heu...', 'content_length': 543, 'full_content': 'Schon lange vorher hatten die Nationalsozialisten durch Gesetze vom 13. September 1933 und 13. September 1934 den Beirat bei der Reichsmonopolverwaltung beseitigt. Dieser Beirat hatte entgegen dem heutigen Gewerbeausschuß (mit nur beratender Stimme) das Beschlußrecht. Durch die beiden Gesetze war also auch auf dem Spritsektor das Führerprinzip eingeführt. Jetzt will die westdeutsche Spirituosenindustrie feststellen, ob in der Bundesrepublik 1934 oder 1952 geschrieben wird. Ihre Klageschrift für das Verwaltungsgericht ist schon in Arbeit.'}\n",
      "----------------------------------------\n",
      "File: spiegel_rag_denazification_temporal-full-50-20_gpt.csv\n",
      "Columns: ['chunk_id', 'primary_relevance_score', 'vector_similarity_score', 'llm_evaluation_score', 'score_difference', 'titel', 'datum', 'jahrgang', 'ausgabe', 'autoren', 'schlagworte', 'untertitel', 'url', 'nr_in_issue', 'time_window', 'evaluation_text', 'content_preview', 'content_length', 'full_content']\n",
      "First row values: {'chunk_id': 1, 'primary_relevance_score': 0.8, 'vector_similarity_score': 0.7971855998039246, 'llm_evaluation_score': 0.8, 'score_difference': 0.0028144001960754, 'titel': 'Briefe', 'datum': '1950-05-24', 'jahrgang': 1950, 'ausgabe': 21, 'autoren': nan, 'schlagworte': nan, 'untertitel': nan, 'url': 'https://www.spiegel.de/politik/a-b-c-a-ae9f2286-0002-0001-0000-000044448473?context=issue', 'nr_in_issue': nan, 'time_window': '1948-1952', 'evaluation_text': 'Score: 8.0/10 - Der Text beschreibt die Entnazifizierungsprozesse und die Fragen, die Kriegsgefangenen gestellt wurden, um ihre politische Einstellung zu beurteilen. Dies ist hoch relevant für die Forschung zur Aufarbeitung des Nationalsozialismus und der gesellschaftlichen Auseinandersetzung mit der NS-Vergangenheit.', 'content_preview': 'In der Ausgabe Nr. 15 schreiben Sie unter »Nazismus« von den Rundfragen eines gewissen Herrn Wight. Es heißt da: »Halten Sie den Nationalsozialismus für eine schlechte Sache oder für eine gute Idee, d...', 'content_length': 988, 'full_content': 'In der Ausgabe Nr. 15 schreiben Sie unter »Nazismus« von den Rundfragen eines gewissen Herrn Wight. Es heißt da: »Halten Sie den Nationalsozialismus für eine schlechte Sache oder für eine gute Idee, die nur schlecht ausgeführt wurde?« Vielleicht wird Sie hierzu folgendes interessieren: Als wir im Jahre 1946 als Kriegsgefangene von Amerika nach England kamen, wurden uns schon in den ersten Tagen kleine Zettel mit folgenden Fragen gegeben: 1. War der Nationalsozialismus eine gute Idee? 2. War der Nationalsozialismus eine gute Idee und ist sie nur schlecht ausgeführt? 3. Ist das ganze deutsche Volk schuld am Kriege? 4. Ist der Nürnberger Kriegsverbrecherprozeß gerechtfertigt? Truppweise wurden wir in eine Baracke geführt. Hier mußten die Fragen mit ja oder nein beantwortet werden. Die Zettel mußten einzeln abgegeben werden mit Unterschrift und Nummer versehen. Auf Grund der Auswertung erfolgte die politische Einstufung nach den Gruppen A, B und C. Bordesholm FERDINAND KÖNEMANN'}\n",
      "----------------------------------------\n",
      "File: spiegel_rag_denazification_temporal-full-50-20_simple.csv\n",
      "Columns: ['chunk_id', 'relevance_score', 'titel', 'datum', 'jahrgang', 'ausgabe', 'autoren', 'schlagworte', 'untertitel', 'url', 'nr_in_issue', 'time_window', 'content_preview', 'content_length', 'full_content']\n",
      "First row values: {'chunk_id': 1, 'relevance_score': 0.8200929760932922, 'titel': 'Hans-Helmuth Knütter: »ldeologien des Rechtsradikalismus im Nachkriegsdeutschland«.', 'datum': '1961-12-19', 'jahrgang': 1961, 'ausgabe': 52, 'autoren': nan, 'schlagworte': \"['Neu In Deutschland']\", 'untertitel': nan, 'url': 'https://www.spiegel.de/kultur/hans-helmuth-knuetter-ldeologien-des-rechtsradikalismus-im-nachkriegsdeutschland-a-515bfc1f-0002-0001-0000-000043367926?context=issue', 'nr_in_issue': nan, 'time_window': '1958-1962', 'content_preview': 'In einer »Studie über die Nachwirkungen des Nationalsozialismus« durchleuchtete der Autor die rechtsradikale Publizistik auf ihr Urteil über Hitler, die Kriegsschuldfrage, die deutsche Widerstandsbewe...', 'content_length': 596, 'full_content': 'In einer »Studie über die Nachwirkungen des Nationalsozialismus« durchleuchtete der Autor die rechtsradikale Publizistik auf ihr Urteil über Hitler, die Kriegsschuldfrage, die deutsche Widerstandsbewegung und den Nationalsozialismus überhaupt. Sein Fazit: Es gibt zwar keine Verschwörung von rechts, wohl aber eine Kontinuität der nationalsozialistischen, teilweise der vornazistischen rechtsextremen Ideen, weil der Personenkreis, der heute vaterländische Zeitungen schreibt oder liest, das gleiche Geschäft schon vor 1945 betrieben hat. (Ludwig Röhrscheid Verlag, Bonn; 230 Seiten; 16,80 Mark.)'}\n",
      "----------------------------------------\n"
     ]
    }
   ],
   "source": [
    "csv_files = [f for f in os.listdir('./data') if f.endswith('.csv')]\n",
    "for file in csv_files:\n",
    "    file_path = os.path.join('./data', file)\n",
    "    df = pd.read_csv(file_path)\n",
    "    print(f\"File: {file}\")\n",
    "    print(\"Columns:\", df.columns.tolist())\n",
    "    print(\"First row values:\", df.iloc[0].to_dict())\n",
    "    print(\"-\" * 40)"
   ]
  }
 ],
 "metadata": {
  "kernelspec": {
   "display_name": "Python 3",
   "language": "python",
   "name": "python3"
  },
  "language_info": {
   "codemirror_mode": {
    "name": "ipython",
    "version": 3
   },
   "file_extension": ".py",
   "mimetype": "text/x-python",
   "name": "python",
   "nbconvert_exporter": "python",
   "pygments_lexer": "ipython3",
   "version": "3.12.6"
  }
 },
 "nbformat": 4,
 "nbformat_minor": 5
}
