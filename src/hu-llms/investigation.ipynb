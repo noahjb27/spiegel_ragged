{
 "cells": [
  {
   "cell_type": "code",
   "execution_count": 5,
   "id": "adff34d5",
   "metadata": {},
   "outputs": [
    {
     "name": "stdout",
     "output_type": "stream",
     "text": [
      "llm1\n"
     ]
    }
   ],
   "source": [
    "from openai import OpenAI, AsyncOpenAI\n",
    "\n",
    "llm_url = \"https://llm1-compute.cms.hu-berlin.de/v1/\"\n",
    "\n",
    "sync_client = OpenAI(\n",
    "    base_url=llm_url,\n",
    "    api_key=\"required-but-not-used\",\n",
    ")\n",
    "models = sync_client.models.list()\n",
    "selected_model_id = models.data[0].id\n",
    "print(selected_model_id)\n",
    "\n",
    "client = AsyncOpenAI(\n",
    "    base_url=llm_url,\n",
    "    api_key=\"required-but-not-used\",\n",
    ")"
   ]
  },
  {
   "cell_type": "code",
   "execution_count": 6,
   "id": "976ba0b6",
   "metadata": {},
   "outputs": [
    {
     "name": "stdout",
     "output_type": "stream",
     "text": [
      "SyncPage[Model](data=[Model(id='llm1', created=1750075183, object='model', owned_by='vllm', root='TechxGenus/Mistral-Large-Instruct-2411-AWQ', parent=None, max_model_len=15000, permission=[{'id': 'modelperm-a4219445a3bd42bfae64dfc3c130fe71', 'object': 'model_permission', 'created': 1750075183, 'allow_create_engine': False, 'allow_sampling': True, 'allow_logprobs': True, 'allow_search_indices': False, 'allow_view': True, 'allow_fine_tuning': False, 'organization': '*', 'group': None, 'is_blocking': False}])], object='list')\n"
     ]
    }
   ],
   "source": [
    "print(models) "
   ]
  }
 ],
 "metadata": {
  "kernelspec": {
   "display_name": ".venv",
   "language": "python",
   "name": "python3"
  },
  "language_info": {
   "codemirror_mode": {
    "name": "ipython",
    "version": 3
   },
   "file_extension": ".py",
   "mimetype": "text/x-python",
   "name": "python",
   "nbconvert_exporter": "python",
   "pygments_lexer": "ipython3",
   "version": "3.13.3"
  }
 },
 "nbformat": 4,
 "nbformat_minor": 5
}
